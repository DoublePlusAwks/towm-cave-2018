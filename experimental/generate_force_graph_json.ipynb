{
 "cells": [
  {
   "cell_type": "code",
   "execution_count": 48,
   "metadata": {
    "collapsed": false
   },
   "outputs": [],
   "source": [
    "weights = json.loads('{\"Dist_0001\":0,\"Manuf_0003\":802,\"Part_0010\":802,\"Part_0011\":954,\"Part_0019\":46390,\"Trans_0003\":28059,\"Trans_0004\":38617,\"Part_0009\":28059,\"Manuf_0001\":38617,\"Part_0001\":46390,\"Part_0002\":46390,\"Part_0003\":46390,\"Part_0004\":46390,\"Part_0005\":46390,\"Part_0006\":46390,\"Dist_0002\":304,\"Dist_0003\":104,\"Dist_0004\":28,\"Dist_0005\":366,\"Dist_0006\":219,\"Manuf_0004\":1110,\"Part_0012\":1110,\"Part_0013\":1408,\"Dist_0007\":34,\"Dist_0008\":468,\"Dist_0009\":389,\"Dist_0010\":2413,\"Manuf_0005\":26147,\"Part_0014\":26147,\"Part_0015\":26147,\"Part_0016\":44028,\"Dist_0011\":2103,\"Dist_0012\":2591,\"Dist_0013\":1979,\"Dist_0014\":1546,\"Dist_0015\":499,\"Dist_0016\":1136,\"Dist_0017\":0,\"Dist_0018\":7684,\"Dist_0019\":5539,\"Dist_0020\":657,\"Dist_0021\":78,\"Manuf_0006\":152,\"Part_0017\":152,\"Trans_0002\":18331,\"Part_0008\":18331,\"Dist_0022\":8,\"Dist_0023\":0,\"Dist_0024\":0,\"Dist_0025\":66,\"Dist_0026\":0,\"Manuf_0007\":298,\"Part_0018\":298,\"Dist_0027\":0,\"Dist_0028\":36,\"Dist_0029\":262,\"Dist_0030\":0,\"Manuf_0008\":10108,\"Part_0020\":10108,\"Part_0021\":10108,\"Dist_0031\":2734,\"Dist_0032\":482,\"Dist_0033\":0,\"Dist_0034\":4486,\"Dist_0035\":0,\"Dist_0036\":0,\"Dist_0037\":0,\"Dist_0038\":1940,\"Dist_0039\":466,\"Dist_0040\":0,\"Dist_0041\":1057,\"Manuf_0009\":7773,\"Part_0022\":7773,\"Part_0023\":7773,\"Trans_0001\":7773,\"Trans_0005\":7773,\"Part_0007\":7773,\"Manuf_0002\":7773,\"Dist_0042\":731,\"Dist_0043\":979,\"Dist_0044\":0,\"Dist_0045\":1963,\"Dist_0046\":682,\"Dist_0047\":830,\"Dist_0048\":1382,\"Dist_0049\":0,\"Dist_0050\":0,\"Dist_0051\":149}')"
   ]
  },
  {
   "cell_type": "code",
   "execution_count": 49,
   "metadata": {
    "collapsed": false
   },
   "outputs": [
    {
     "data": {
      "text/plain": [
       "{'Dist_0001': 0,\n",
       " 'Dist_0002': 304,\n",
       " 'Dist_0003': 104,\n",
       " 'Dist_0004': 28,\n",
       " 'Dist_0005': 366,\n",
       " 'Dist_0006': 219,\n",
       " 'Dist_0007': 34,\n",
       " 'Dist_0008': 468,\n",
       " 'Dist_0009': 389,\n",
       " 'Dist_0010': 2413,\n",
       " 'Dist_0011': 2103,\n",
       " 'Dist_0012': 2591,\n",
       " 'Dist_0013': 1979,\n",
       " 'Dist_0014': 1546,\n",
       " 'Dist_0015': 499,\n",
       " 'Dist_0016': 1136,\n",
       " 'Dist_0017': 0,\n",
       " 'Dist_0018': 7684,\n",
       " 'Dist_0019': 5539,\n",
       " 'Dist_0020': 657,\n",
       " 'Dist_0021': 78,\n",
       " 'Dist_0022': 8,\n",
       " 'Dist_0023': 0,\n",
       " 'Dist_0024': 0,\n",
       " 'Dist_0025': 66,\n",
       " 'Dist_0026': 0,\n",
       " 'Dist_0027': 0,\n",
       " 'Dist_0028': 36,\n",
       " 'Dist_0029': 262,\n",
       " 'Dist_0030': 0,\n",
       " 'Dist_0031': 2734,\n",
       " 'Dist_0032': 482,\n",
       " 'Dist_0033': 0,\n",
       " 'Dist_0034': 4486,\n",
       " 'Dist_0035': 0,\n",
       " 'Dist_0036': 0,\n",
       " 'Dist_0037': 0,\n",
       " 'Dist_0038': 1940,\n",
       " 'Dist_0039': 466,\n",
       " 'Dist_0040': 0,\n",
       " 'Dist_0041': 1057,\n",
       " 'Dist_0042': 731,\n",
       " 'Dist_0043': 979,\n",
       " 'Dist_0044': 0,\n",
       " 'Dist_0045': 1963,\n",
       " 'Dist_0046': 682,\n",
       " 'Dist_0047': 830,\n",
       " 'Dist_0048': 1382,\n",
       " 'Dist_0049': 0,\n",
       " 'Dist_0050': 0,\n",
       " 'Dist_0051': 149,\n",
       " 'Manuf_0001': 38617,\n",
       " 'Manuf_0002': 7773,\n",
       " 'Manuf_0003': 802,\n",
       " 'Manuf_0004': 1110,\n",
       " 'Manuf_0005': 26147,\n",
       " 'Manuf_0006': 152,\n",
       " 'Manuf_0007': 298,\n",
       " 'Manuf_0008': 10108,\n",
       " 'Manuf_0009': 7773,\n",
       " 'Part_0001': 46390,\n",
       " 'Part_0002': 46390,\n",
       " 'Part_0003': 46390,\n",
       " 'Part_0004': 46390,\n",
       " 'Part_0005': 46390,\n",
       " 'Part_0006': 46390,\n",
       " 'Part_0007': 7773,\n",
       " 'Part_0008': 18331,\n",
       " 'Part_0009': 28059,\n",
       " 'Part_0010': 802,\n",
       " 'Part_0011': 954,\n",
       " 'Part_0012': 1110,\n",
       " 'Part_0013': 1408,\n",
       " 'Part_0014': 26147,\n",
       " 'Part_0015': 26147,\n",
       " 'Part_0016': 44028,\n",
       " 'Part_0017': 152,\n",
       " 'Part_0018': 298,\n",
       " 'Part_0019': 46390,\n",
       " 'Part_0020': 10108,\n",
       " 'Part_0021': 10108,\n",
       " 'Part_0022': 7773,\n",
       " 'Part_0023': 7773,\n",
       " 'Trans_0001': 7773,\n",
       " 'Trans_0002': 18331,\n",
       " 'Trans_0003': 28059,\n",
       " 'Trans_0004': 38617,\n",
       " 'Trans_0005': 7773}"
      ]
     },
     "execution_count": 49,
     "metadata": {},
     "output_type": "execute_result"
    }
   ],
   "source": [
    "weights"
   ]
  },
  {
   "cell_type": "code",
   "execution_count": 52,
   "metadata": {
    "collapsed": false
   },
   "outputs": [
    {
     "data": {
      "text/plain": [
       "8584.363636363636"
      ]
     },
     "execution_count": 52,
     "metadata": {},
     "output_type": "execute_result"
    }
   ],
   "source": [
    "import numpy as np\n",
    "np.mean(list(weights.values()))"
   ]
  },
  {
   "cell_type": "code",
   "execution_count": 53,
   "metadata": {
    "collapsed": false
   },
   "outputs": [],
   "source": [
    "import math\n",
    "import json\n",
    "\n",
    "titles = [\"Cereal\", \"Perfume\", \"Computer\", \"Aircraft\"]\n",
    "\n",
    "for title in titles:\n",
    "    json_data = open(\"../data/{}/data.json\".format(title)).read()\n",
    "    data = json.loads(json_data)\n",
    "    \n",
    "    nodes = []\n",
    "    links = []\n",
    "    \n",
    "    for stage in data:\n",
    "        group_conversion = {\"PART\": 1, \"MANUF\": 3, \"TRANS\": 2, \"DIST\": 4, \"RETAIL\": 5}\n",
    "        group = group_conversion[data[stage][\"classification\"]]\n",
    "        \n",
    "        weight = weights.get(stage, 19000)\n",
    "        nodes.append({\"id\": stage, \"group\": group, \"weight\": weight, \"relDepth\": data[stage][\"relDepth\"]})\n",
    "        \n",
    "        for target in data[stage][\"outStages\"]:\n",
    "            links.append({\"source\": stage, \"target\": target, \"value\": 1})\n",
    "    \n",
    "    res = {\"nodes\": nodes, \"links\": links}\n",
    "    with open(\"{}.json\".format(title), \"w\") as file:\n",
    "        json.dump(res, file, indent=2)\n",
    "    "
   ]
  },
  {
   "cell_type": "code",
   "execution_count": null,
   "metadata": {
    "collapsed": true
   },
   "outputs": [],
   "source": []
  }
 ],
 "metadata": {
  "kernelspec": {
   "display_name": "Python 3",
   "language": "python",
   "name": "python3"
  },
  "language_info": {
   "codemirror_mode": {
    "name": "ipython",
    "version": 3
   },
   "file_extension": ".py",
   "mimetype": "text/x-python",
   "name": "python",
   "nbconvert_exporter": "python",
   "pygments_lexer": "ipython3",
   "version": "3.6.2"
  }
 },
 "nbformat": 4,
 "nbformat_minor": 2
}
