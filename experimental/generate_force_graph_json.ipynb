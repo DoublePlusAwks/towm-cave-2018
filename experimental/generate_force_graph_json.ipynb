{
 "cells": [
  {
   "cell_type": "code",
   "execution_count": 27,
   "metadata": {
    "collapsed": false
   },
   "outputs": [],
   "source": [
    "import math\n",
    "import json\n",
    "\n",
    "titles = [\"Cereal\", \"Perfume\", \"Computer\", \"Aircraft\"]\n",
    "\n",
    "for title in titles:\n",
    "    json_data = open(\"../data/{}/data.json\".format(title)).read()\n",
    "    data = json.loads(json_data)\n",
    "    \n",
    "    nodes = []\n",
    "    links = []\n",
    "    \n",
    "    for stage in data:\n",
    "        group_conversion = {\"PART\": 1, \"MANUF\": 2, \"DIST\": 3, \"RETAIL\": 4, \"TRANS\": 5}\n",
    "        group = group_conversion[data[stage][\"classification\"]]\n",
    "        nodes.append({\"id\": stage, \"group\": group})\n",
    "        \n",
    "        for target in data[stage][\"out_stages\"]:\n",
    "            links.append({\"source\": stage, \"target\": target, \"value\": 1})\n",
    "    \n",
    "    res = {\"nodes\": nodes, \"links\": links}\n",
    "    with open(\"{}.json\".format(title), \"w\") as file:\n",
    "        json.dump(res, file, indent=2)\n",
    "    "
   ]
  },
  {
   "cell_type": "code",
   "execution_count": null,
   "metadata": {
    "collapsed": true
   },
   "outputs": [],
   "source": []
  },
  {
   "cell_type": "code",
   "execution_count": null,
   "metadata": {
    "collapsed": true
   },
   "outputs": [],
   "source": []
  }
 ],
 "metadata": {
  "kernelspec": {
   "display_name": "Python 3",
   "language": "python",
   "name": "python3"
  },
  "language_info": {
   "codemirror_mode": {
    "name": "ipython",
    "version": 3
   },
   "file_extension": ".py",
   "mimetype": "text/x-python",
   "name": "python",
   "nbconvert_exporter": "python",
   "pygments_lexer": "ipython3",
   "version": "3.6.2"
  }
 },
 "nbformat": 4,
 "nbformat_minor": 2
}
